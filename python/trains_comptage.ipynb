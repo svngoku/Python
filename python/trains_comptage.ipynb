{
 "cells": [
  {
   "cell_type": "markdown",
   "metadata": {},
   "source": [
    "## Comptage des voyageurs montants dans les trains Transilien (WIP)\n",
    "Source : https://data.iledefrance.fr/explore/dataset/voyageurs-montant-en-gare-sur-le-reseau-transilien/information/"
   ]
  },
  {
   "cell_type": "code",
   "execution_count": 1,
   "metadata": {},
   "outputs": [],
   "source": [
    "import pandas as pd\n",
    "import numpy as np\n",
    "import datetime\n",
    "import matplotlib.pyplot as plt\n",
    "%matplotlib inline\n",
    "import seaborn as sns"
   ]
  },
  {
   "cell_type": "code",
   "execution_count": 2,
   "metadata": {},
   "outputs": [],
   "source": [
    "trains = pd.read_csv(\"../Datasets_training/voyageurs_trains.csv\", sep=\";\")"
   ]
  },
  {
   "cell_type": "code",
   "execution_count": 9,
   "metadata": {},
   "outputs": [],
   "source": [
    "noms_gares = pd.read_csv('referentiel-gares-voyageurs.csv', sep=\";\")"
   ]
  },
  {
   "cell_type": "code",
   "execution_count": 10,
   "metadata": {},
   "outputs": [
    {
     "data": {
      "text/html": [
       "<div>\n",
       "<style scoped>\n",
       "    .dataframe tbody tr th:only-of-type {\n",
       "        vertical-align: middle;\n",
       "    }\n",
       "\n",
       "    .dataframe tbody tr th {\n",
       "        vertical-align: top;\n",
       "    }\n",
       "\n",
       "    .dataframe thead th {\n",
       "        text-align: right;\n",
       "    }\n",
       "</style>\n",
       "<table border=\"1\" class=\"dataframe\">\n",
       "  <thead>\n",
       "    <tr style=\"text-align: right;\">\n",
       "      <th></th>\n",
       "      <th>Nom gare</th>\n",
       "      <th>Code Gare</th>\n",
       "      <th>Type jour</th>\n",
       "      <th>Year</th>\n",
       "      <th>Date de comptage</th>\n",
       "      <th>Ligne</th>\n",
       "      <th>Tranche horaire</th>\n",
       "      <th>Montants</th>\n",
       "    </tr>\n",
       "  </thead>\n",
       "  <tbody>\n",
       "    <tr>\n",
       "      <td>0</td>\n",
       "      <td>ACHERES GRAND CORMIER</td>\n",
       "      <td>87386052</td>\n",
       "      <td>Samedi</td>\n",
       "      <td>2014.0</td>\n",
       "      <td>2014-05-17</td>\n",
       "      <td>A</td>\n",
       "      <td>De 16h à 20h</td>\n",
       "      <td>46</td>\n",
       "    </tr>\n",
       "    <tr>\n",
       "      <td>1</td>\n",
       "      <td>ACHERES GRAND CORMIER</td>\n",
       "      <td>87386052</td>\n",
       "      <td>JOB</td>\n",
       "      <td>2018.0</td>\n",
       "      <td>2018-03-27</td>\n",
       "      <td>A</td>\n",
       "      <td>De 6h à 10h</td>\n",
       "      <td>113</td>\n",
       "    </tr>\n",
       "    <tr>\n",
       "      <td>2</td>\n",
       "      <td>SAINT-QUENTIN EN YVELINES</td>\n",
       "      <td>87393843</td>\n",
       "      <td>JOB</td>\n",
       "      <td>2016.0</td>\n",
       "      <td>2016-03-15</td>\n",
       "      <td>U</td>\n",
       "      <td>De 6h à 10h</td>\n",
       "      <td>2493</td>\n",
       "    </tr>\n",
       "    <tr>\n",
       "      <td>3</td>\n",
       "      <td>MAISONS LAFFITTE</td>\n",
       "      <td>87386425</td>\n",
       "      <td>Dimanche</td>\n",
       "      <td>2014.0</td>\n",
       "      <td>2014-05-18</td>\n",
       "      <td>A</td>\n",
       "      <td>De 10h à 16h</td>\n",
       "      <td>1884</td>\n",
       "    </tr>\n",
       "    <tr>\n",
       "      <td>4</td>\n",
       "      <td>LA DEFENSE GRANDE ARCHE</td>\n",
       "      <td>87758011</td>\n",
       "      <td>JOB</td>\n",
       "      <td>2016.0</td>\n",
       "      <td>2016-03-15</td>\n",
       "      <td>U</td>\n",
       "      <td>De 6h à 10h</td>\n",
       "      <td>3831</td>\n",
       "    </tr>\n",
       "  </tbody>\n",
       "</table>\n",
       "</div>"
      ],
      "text/plain": [
       "                    Nom gare  Code Gare Type jour    Year Date de comptage  \\\n",
       "0      ACHERES GRAND CORMIER   87386052    Samedi  2014.0       2014-05-17   \n",
       "1      ACHERES GRAND CORMIER   87386052       JOB  2018.0       2018-03-27   \n",
       "2  SAINT-QUENTIN EN YVELINES   87393843       JOB  2016.0       2016-03-15   \n",
       "3           MAISONS LAFFITTE   87386425  Dimanche  2014.0       2014-05-18   \n",
       "4    LA DEFENSE GRANDE ARCHE   87758011       JOB  2016.0       2016-03-15   \n",
       "\n",
       "  Ligne Tranche horaire  Montants  \n",
       "0     A    De 16h à 20h        46  \n",
       "1     A     De 6h à 10h       113  \n",
       "2     U     De 6h à 10h      2493  \n",
       "3     A    De 10h à 16h      1884  \n",
       "4     U     De 6h à 10h      3831  "
      ]
     },
     "execution_count": 10,
     "metadata": {},
     "output_type": "execute_result"
    }
   ],
   "source": [
    "trains.head()"
   ]
  },
  {
   "cell_type": "code",
   "execution_count": 22,
   "metadata": {
    "scrolled": true
   },
   "outputs": [
    {
     "name": "stdout",
     "output_type": "stream",
     "text": [
      "<class 'pandas.core.frame.DataFrame'>\n",
      "RangeIndex: 3270 entries, 0 to 3269\n",
      "Data columns (total 26 columns):\n",
      "Code plate-forme                3270 non-null object\n",
      "Intitulé gare                   3270 non-null object\n",
      "Intitulé fronton de gare        3204 non-null object\n",
      "Gare DRG                        3270 non-null bool\n",
      "Gare étrangère                  3270 non-null bool\n",
      "Agence gare                     3050 non-null object\n",
      "Région SNCF                     3024 non-null object\n",
      "Unité gare                      2643 non-null object\n",
      "UT                              3026 non-null object\n",
      "Nbre plateformes                3270 non-null int64\n",
      "Intitulé plateforme             3270 non-null object\n",
      "Code postal                     3089 non-null float64\n",
      "Commune                         3042 non-null object\n",
      "Code commune                    3042 non-null float64\n",
      "Code département                3042 non-null float64\n",
      "Département                     3042 non-null object\n",
      "Longitude WGS84                 3060 non-null float64\n",
      "Latitude WGS84                  3060 non-null float64\n",
      "Code UIC                        3270 non-null int64\n",
      "TVS                             2999 non-null object\n",
      "Segment DRG                     3089 non-null object\n",
      "Niveau de service               2629 non-null float64\n",
      "SOP                             0 non-null float64\n",
      "RG                              3155 non-null object\n",
      "Date fin validité plateforme    212 non-null object\n",
      "WGS 84                          3060 non-null object\n",
      "dtypes: bool(2), float64(7), int64(2), object(15)\n",
      "memory usage: 619.6+ KB\n"
     ]
    }
   ],
   "source": [
    "noms_gares.info()"
   ]
  },
  {
   "cell_type": "code",
   "execution_count": 15,
   "metadata": {},
   "outputs": [
    {
     "data": {
      "text/html": [
       "<div>\n",
       "<style scoped>\n",
       "    .dataframe tbody tr th:only-of-type {\n",
       "        vertical-align: middle;\n",
       "    }\n",
       "\n",
       "    .dataframe tbody tr th {\n",
       "        vertical-align: top;\n",
       "    }\n",
       "\n",
       "    .dataframe thead th {\n",
       "        text-align: right;\n",
       "    }\n",
       "</style>\n",
       "<table border=\"1\" class=\"dataframe\">\n",
       "  <thead>\n",
       "    <tr style=\"text-align: right;\">\n",
       "      <th></th>\n",
       "      <th>Code plate-forme</th>\n",
       "      <th>Intitulé gare</th>\n",
       "      <th>Intitulé fronton de gare</th>\n",
       "      <th>Gare DRG</th>\n",
       "      <th>Gare étrangère</th>\n",
       "      <th>Agence gare</th>\n",
       "      <th>Région SNCF</th>\n",
       "      <th>Unité gare</th>\n",
       "      <th>UT</th>\n",
       "      <th>Nbre plateformes</th>\n",
       "      <th>...</th>\n",
       "      <th>Longitude WGS84</th>\n",
       "      <th>Latitude WGS84</th>\n",
       "      <th>Code UIC</th>\n",
       "      <th>TVS</th>\n",
       "      <th>Segment DRG</th>\n",
       "      <th>Niveau de service</th>\n",
       "      <th>SOP</th>\n",
       "      <th>RG</th>\n",
       "      <th>Date fin validité plateforme</th>\n",
       "      <th>WGS 84</th>\n",
       "    </tr>\n",
       "  </thead>\n",
       "  <tbody>\n",
       "    <tr>\n",
       "      <td>0</td>\n",
       "      <td>00004-1</td>\n",
       "      <td>Cerbère</td>\n",
       "      <td>Cerbère</td>\n",
       "      <td>True</td>\n",
       "      <td>False</td>\n",
       "      <td>Agence Grand Sud</td>\n",
       "      <td>REGION LANGUEDOC-ROUSSILLON</td>\n",
       "      <td>UG Languedoc Roussillon</td>\n",
       "      <td>CERBERE GARE</td>\n",
       "      <td>1</td>\n",
       "      <td>...</td>\n",
       "      <td>3.163403</td>\n",
       "      <td>42.441773</td>\n",
       "      <td>87785006</td>\n",
       "      <td>CER</td>\n",
       "      <td>c</td>\n",
       "      <td>1.0</td>\n",
       "      <td>NaN</td>\n",
       "      <td>GARES C LANGUEDOC ROUSSILLON</td>\n",
       "      <td>NaN</td>\n",
       "      <td>42.4417732,3.1634033</td>\n",
       "    </tr>\n",
       "    <tr>\n",
       "      <td>1</td>\n",
       "      <td>00005-1</td>\n",
       "      <td>Bena Fanes</td>\n",
       "      <td>Bena Fanes</td>\n",
       "      <td>True</td>\n",
       "      <td>False</td>\n",
       "      <td>Agence Grand Sud</td>\n",
       "      <td>REGION LANGUEDOC-ROUSSILLON</td>\n",
       "      <td>UG Languedoc Roussillon</td>\n",
       "      <td>ENVEITG HALTE DE BENA FANES</td>\n",
       "      <td>1</td>\n",
       "      <td>...</td>\n",
       "      <td>1.916726</td>\n",
       "      <td>42.458078</td>\n",
       "      <td>87784892</td>\n",
       "      <td>BFA</td>\n",
       "      <td>c</td>\n",
       "      <td>1.0</td>\n",
       "      <td>NaN</td>\n",
       "      <td>GARES C LANGUEDOC ROUSSILLON</td>\n",
       "      <td>NaN</td>\n",
       "      <td>42.4580782,1.9167264</td>\n",
       "    </tr>\n",
       "    <tr>\n",
       "      <td>2</td>\n",
       "      <td>00006-1</td>\n",
       "      <td>Ur les Escaldes</td>\n",
       "      <td>Ur les Escaldes</td>\n",
       "      <td>True</td>\n",
       "      <td>False</td>\n",
       "      <td>Agence Grand Sud</td>\n",
       "      <td>REGION LANGUEDOC-ROUSSILLON</td>\n",
       "      <td>UG Languedoc Roussillon</td>\n",
       "      <td>UR LES ESCALDES GARE</td>\n",
       "      <td>1</td>\n",
       "      <td>...</td>\n",
       "      <td>1.940482</td>\n",
       "      <td>42.457481</td>\n",
       "      <td>87784884</td>\n",
       "      <td>URL</td>\n",
       "      <td>c</td>\n",
       "      <td>1.0</td>\n",
       "      <td>NaN</td>\n",
       "      <td>GARES C LANGUEDOC ROUSSILLON</td>\n",
       "      <td>NaN</td>\n",
       "      <td>42.457481,1.9404821</td>\n",
       "    </tr>\n",
       "    <tr>\n",
       "      <td>3</td>\n",
       "      <td>00013-1</td>\n",
       "      <td>Font-Romeu-Odeillo-Via</td>\n",
       "      <td>Font-Romeu-Odeillo-Via</td>\n",
       "      <td>True</td>\n",
       "      <td>False</td>\n",
       "      <td>Agence Grand Sud</td>\n",
       "      <td>REGION LANGUEDOC-ROUSSILLON</td>\n",
       "      <td>UG Languedoc Roussillon</td>\n",
       "      <td>FONT ROMEU ODEILLO VIA GARE</td>\n",
       "      <td>1</td>\n",
       "      <td>...</td>\n",
       "      <td>2.038392</td>\n",
       "      <td>42.491232</td>\n",
       "      <td>87784819</td>\n",
       "      <td>FRM</td>\n",
       "      <td>c</td>\n",
       "      <td>1.0</td>\n",
       "      <td>NaN</td>\n",
       "      <td>GARES C LANGUEDOC ROUSSILLON</td>\n",
       "      <td>NaN</td>\n",
       "      <td>42.4912317,2.0383917</td>\n",
       "    </tr>\n",
       "    <tr>\n",
       "      <td>4</td>\n",
       "      <td>00019-1</td>\n",
       "      <td>Thuès Carença</td>\n",
       "      <td>Thuès Carença</td>\n",
       "      <td>True</td>\n",
       "      <td>False</td>\n",
       "      <td>Agence Grand Sud</td>\n",
       "      <td>REGION LANGUEDOC-ROUSSILLON</td>\n",
       "      <td>UG Languedoc Roussillon</td>\n",
       "      <td>NaN</td>\n",
       "      <td>1</td>\n",
       "      <td>...</td>\n",
       "      <td>2.222728</td>\n",
       "      <td>42.522949</td>\n",
       "      <td>87784751</td>\n",
       "      <td>THG</td>\n",
       "      <td>c</td>\n",
       "      <td>1.0</td>\n",
       "      <td>NaN</td>\n",
       "      <td>GARES C LANGUEDOC ROUSSILLON</td>\n",
       "      <td>NaN</td>\n",
       "      <td>42.5229486,2.2227279</td>\n",
       "    </tr>\n",
       "  </tbody>\n",
       "</table>\n",
       "<p>5 rows × 26 columns</p>\n",
       "</div>"
      ],
      "text/plain": [
       "  Code plate-forme           Intitulé gare Intitulé fronton de gare  Gare DRG  \\\n",
       "0          00004-1                 Cerbère                  Cerbère      True   \n",
       "1          00005-1              Bena Fanes               Bena Fanes      True   \n",
       "2          00006-1         Ur les Escaldes          Ur les Escaldes      True   \n",
       "3          00013-1  Font-Romeu-Odeillo-Via   Font-Romeu-Odeillo-Via      True   \n",
       "4          00019-1           Thuès Carença            Thuès Carença      True   \n",
       "\n",
       "   Gare étrangère       Agence gare                  Région SNCF  \\\n",
       "0           False  Agence Grand Sud  REGION LANGUEDOC-ROUSSILLON   \n",
       "1           False  Agence Grand Sud  REGION LANGUEDOC-ROUSSILLON   \n",
       "2           False  Agence Grand Sud  REGION LANGUEDOC-ROUSSILLON   \n",
       "3           False  Agence Grand Sud  REGION LANGUEDOC-ROUSSILLON   \n",
       "4           False  Agence Grand Sud  REGION LANGUEDOC-ROUSSILLON   \n",
       "\n",
       "                Unité gare                           UT  Nbre plateformes  \\\n",
       "0  UG Languedoc Roussillon                 CERBERE GARE                 1   \n",
       "1  UG Languedoc Roussillon  ENVEITG HALTE DE BENA FANES                 1   \n",
       "2  UG Languedoc Roussillon         UR LES ESCALDES GARE                 1   \n",
       "3  UG Languedoc Roussillon  FONT ROMEU ODEILLO VIA GARE                 1   \n",
       "4  UG Languedoc Roussillon                          NaN                 1   \n",
       "\n",
       "   ... Longitude WGS84  Latitude WGS84  Code UIC  TVS  Segment DRG  \\\n",
       "0  ...        3.163403       42.441773  87785006  CER            c   \n",
       "1  ...        1.916726       42.458078  87784892  BFA            c   \n",
       "2  ...        1.940482       42.457481  87784884  URL            c   \n",
       "3  ...        2.038392       42.491232  87784819  FRM            c   \n",
       "4  ...        2.222728       42.522949  87784751  THG            c   \n",
       "\n",
       "  Niveau de service  SOP                            RG  \\\n",
       "0               1.0  NaN  GARES C LANGUEDOC ROUSSILLON   \n",
       "1               1.0  NaN  GARES C LANGUEDOC ROUSSILLON   \n",
       "2               1.0  NaN  GARES C LANGUEDOC ROUSSILLON   \n",
       "3               1.0  NaN  GARES C LANGUEDOC ROUSSILLON   \n",
       "4               1.0  NaN  GARES C LANGUEDOC ROUSSILLON   \n",
       "\n",
       "   Date fin validité plateforme                WGS 84  \n",
       "0                           NaN  42.4417732,3.1634033  \n",
       "1                           NaN  42.4580782,1.9167264  \n",
       "2                           NaN   42.457481,1.9404821  \n",
       "3                           NaN  42.4912317,2.0383917  \n",
       "4                           NaN  42.5229486,2.2227279  \n",
       "\n",
       "[5 rows x 26 columns]"
      ]
     },
     "execution_count": 15,
     "metadata": {},
     "output_type": "execute_result"
    }
   ],
   "source": [
    "noms_gares.head()"
   ]
  },
  {
   "cell_type": "code",
   "execution_count": 4,
   "metadata": {},
   "outputs": [
    {
     "name": "stdout",
     "output_type": "stream",
     "text": [
      "<class 'pandas.core.frame.DataFrame'>\n",
      "RangeIndex: 7230 entries, 0 to 7229\n",
      "Data columns (total 8 columns):\n",
      "Nom gare            7230 non-null object\n",
      "Code Gare           7230 non-null int64\n",
      "Type jour           7230 non-null object\n",
      "Year                7230 non-null float64\n",
      "Date de comptage    7230 non-null object\n",
      "Ligne               7230 non-null object\n",
      "Tranche horaire     7230 non-null object\n",
      "Montants            7230 non-null int64\n",
      "dtypes: float64(1), int64(2), object(5)\n",
      "memory usage: 452.0+ KB\n"
     ]
    }
   ],
   "source": [
    "trains.info()"
   ]
  },
  {
   "cell_type": "code",
   "execution_count": 5,
   "metadata": {
    "scrolled": false
   },
   "outputs": [
    {
     "data": {
      "text/html": [
       "<div>\n",
       "<style scoped>\n",
       "    .dataframe tbody tr th:only-of-type {\n",
       "        vertical-align: middle;\n",
       "    }\n",
       "\n",
       "    .dataframe tbody tr th {\n",
       "        vertical-align: top;\n",
       "    }\n",
       "\n",
       "    .dataframe thead th {\n",
       "        text-align: right;\n",
       "    }\n",
       "</style>\n",
       "<table border=\"1\" class=\"dataframe\">\n",
       "  <thead>\n",
       "    <tr style=\"text-align: right;\">\n",
       "      <th></th>\n",
       "      <th>Nom gare</th>\n",
       "      <th>Code Gare</th>\n",
       "      <th>Type jour</th>\n",
       "      <th>Year</th>\n",
       "      <th>Date de comptage</th>\n",
       "      <th>Ligne</th>\n",
       "      <th>Tranche horaire</th>\n",
       "      <th>Montants</th>\n",
       "    </tr>\n",
       "  </thead>\n",
       "  <tbody>\n",
       "    <tr>\n",
       "      <td>0</td>\n",
       "      <td>ACHERES GRAND CORMIER</td>\n",
       "      <td>87386052</td>\n",
       "      <td>Samedi</td>\n",
       "      <td>2014.0</td>\n",
       "      <td>2014-05-17</td>\n",
       "      <td>A</td>\n",
       "      <td>De 16h à 20h</td>\n",
       "      <td>46</td>\n",
       "    </tr>\n",
       "    <tr>\n",
       "      <td>1</td>\n",
       "      <td>ACHERES GRAND CORMIER</td>\n",
       "      <td>87386052</td>\n",
       "      <td>JOB</td>\n",
       "      <td>2018.0</td>\n",
       "      <td>2018-03-27</td>\n",
       "      <td>A</td>\n",
       "      <td>De 6h à 10h</td>\n",
       "      <td>113</td>\n",
       "    </tr>\n",
       "    <tr>\n",
       "      <td>2</td>\n",
       "      <td>SAINT-QUENTIN EN YVELINES</td>\n",
       "      <td>87393843</td>\n",
       "      <td>JOB</td>\n",
       "      <td>2016.0</td>\n",
       "      <td>2016-03-15</td>\n",
       "      <td>U</td>\n",
       "      <td>De 6h à 10h</td>\n",
       "      <td>2493</td>\n",
       "    </tr>\n",
       "    <tr>\n",
       "      <td>3</td>\n",
       "      <td>MAISONS LAFFITTE</td>\n",
       "      <td>87386425</td>\n",
       "      <td>Dimanche</td>\n",
       "      <td>2014.0</td>\n",
       "      <td>2014-05-18</td>\n",
       "      <td>A</td>\n",
       "      <td>De 10h à 16h</td>\n",
       "      <td>1884</td>\n",
       "    </tr>\n",
       "    <tr>\n",
       "      <td>4</td>\n",
       "      <td>LA DEFENSE GRANDE ARCHE</td>\n",
       "      <td>87758011</td>\n",
       "      <td>JOB</td>\n",
       "      <td>2016.0</td>\n",
       "      <td>2016-03-15</td>\n",
       "      <td>U</td>\n",
       "      <td>De 6h à 10h</td>\n",
       "      <td>3831</td>\n",
       "    </tr>\n",
       "  </tbody>\n",
       "</table>\n",
       "</div>"
      ],
      "text/plain": [
       "                    Nom gare  Code Gare Type jour    Year Date de comptage  \\\n",
       "0      ACHERES GRAND CORMIER   87386052    Samedi  2014.0       2014-05-17   \n",
       "1      ACHERES GRAND CORMIER   87386052       JOB  2018.0       2018-03-27   \n",
       "2  SAINT-QUENTIN EN YVELINES   87393843       JOB  2016.0       2016-03-15   \n",
       "3           MAISONS LAFFITTE   87386425  Dimanche  2014.0       2014-05-18   \n",
       "4    LA DEFENSE GRANDE ARCHE   87758011       JOB  2016.0       2016-03-15   \n",
       "\n",
       "  Ligne Tranche horaire  Montants  \n",
       "0     A    De 16h à 20h        46  \n",
       "1     A     De 6h à 10h       113  \n",
       "2     U     De 6h à 10h      2493  \n",
       "3     A    De 10h à 16h      1884  \n",
       "4     U     De 6h à 10h      3831  "
      ]
     },
     "execution_count": 5,
     "metadata": {},
     "output_type": "execute_result"
    }
   ],
   "source": [
    "trains.head()"
   ]
  },
  {
   "cell_type": "markdown",
   "metadata": {},
   "source": [
    "## <div class=\"alert alert-info\"> Renommer colonnes </div>"
   ]
  },
  {
   "cell_type": "code",
   "execution_count": 6,
   "metadata": {},
   "outputs": [],
   "source": [
    "### renommage noms colonnes\n",
    "trains.rename(columns={\"Nom gare\" : \"nom_gare\",\n",
    "                       \"Code Gare\": \"code_gare\",\n",
    "                       \"Type jour\": \"type_jour\",\n",
    "                       \"Year\":\"annee\",\n",
    "                      \"Date de comptage\": \"date_comptage\",\n",
    "                       \"Ligne\":\"ligne\",\n",
    "                       \"Tranche horaire\":\"tranche_horaire\", \n",
    "                      \"Montants\": \"montants\"}, inplace=True)"
   ]
  },
  {
   "cell_type": "code",
   "execution_count": 40,
   "metadata": {},
   "outputs": [
    {
     "data": {
      "text/html": [
       "<div>\n",
       "<style scoped>\n",
       "    .dataframe tbody tr th:only-of-type {\n",
       "        vertical-align: middle;\n",
       "    }\n",
       "\n",
       "    .dataframe tbody tr th {\n",
       "        vertical-align: top;\n",
       "    }\n",
       "\n",
       "    .dataframe thead th {\n",
       "        text-align: right;\n",
       "    }\n",
       "</style>\n",
       "<table border=\"1\" class=\"dataframe\">\n",
       "  <thead>\n",
       "    <tr style=\"text-align: right;\">\n",
       "      <th></th>\n",
       "      <th>nom_gare</th>\n",
       "      <th>code_gare</th>\n",
       "      <th>type_jour</th>\n",
       "      <th>annee</th>\n",
       "      <th>date_comptage</th>\n",
       "      <th>ligne</th>\n",
       "      <th>tranche_horaire</th>\n",
       "      <th>montants</th>\n",
       "    </tr>\n",
       "  </thead>\n",
       "  <tbody>\n",
       "    <tr>\n",
       "      <td>0</td>\n",
       "      <td>ACHERES GRAND CORMIER</td>\n",
       "      <td>87386052</td>\n",
       "      <td>Samedi</td>\n",
       "      <td>2014</td>\n",
       "      <td>2014-05-17</td>\n",
       "      <td>A</td>\n",
       "      <td>16H-20H</td>\n",
       "      <td>46</td>\n",
       "    </tr>\n",
       "    <tr>\n",
       "      <td>1</td>\n",
       "      <td>ACHERES GRAND CORMIER</td>\n",
       "      <td>87386052</td>\n",
       "      <td>JOB</td>\n",
       "      <td>2018</td>\n",
       "      <td>2018-03-27</td>\n",
       "      <td>A</td>\n",
       "      <td>06H-10H</td>\n",
       "      <td>113</td>\n",
       "    </tr>\n",
       "  </tbody>\n",
       "</table>\n",
       "</div>"
      ],
      "text/plain": [
       "                nom_gare  code_gare type_jour  annee date_comptage ligne  \\\n",
       "0  ACHERES GRAND CORMIER   87386052    Samedi   2014    2014-05-17     A   \n",
       "1  ACHERES GRAND CORMIER   87386052       JOB   2018    2018-03-27     A   \n",
       "\n",
       "  tranche_horaire  montants  \n",
       "0         16H-20H        46  \n",
       "1         06H-10H       113  "
      ]
     },
     "execution_count": 40,
     "metadata": {},
     "output_type": "execute_result"
    }
   ],
   "source": [
    "trains.head(2)"
   ]
  },
  {
   "cell_type": "markdown",
   "metadata": {},
   "source": [
    "## <div class=\"alert alert-info\"> conversion str to time </div> "
   ]
  },
  {
   "cell_type": "code",
   "execution_count": 7,
   "metadata": {},
   "outputs": [],
   "source": [
    "### création d'une fonction pour transformer la les tranches horaires en format heure\n",
    "def timenew(x):\n",
    "    if '16h à 20h' in x:\n",
    "        return pd.timedelta_range(start='16:00:00',end='20:00:00', periods=2, name=\"16H-20H\").name\n",
    "    elif '6h à 10h' in x:\n",
    "            return pd.timedelta_range(start='06:00:00',end='10:00:00', periods=2, name=\"06H-10H\").name\n",
    "    elif '10h à 16h' in x:\n",
    "            return pd.timedelta_range(start='10:00:00',end='16:00:00', periods=2, name=\"10H-16H\").name\n",
    "    elif 'Avant 6h' in x:\n",
    "            return pd.timedelta_range(start='05:00:00',end='06:00:00', periods=2, name=\"05H-06H\").name\n",
    "    elif 'Après 20h' in x:\n",
    "            return pd.timedelta_range(start='20:00:00',end='02:00:00', periods=2, name=\"20H-02H\").name\n"
   ]
  },
  {
   "cell_type": "code",
   "execution_count": 8,
   "metadata": {},
   "outputs": [],
   "source": [
    "### ajout nouvelle colonne tranche horaire avec format heure\n",
    "trains[\"tranche_horaire\"] = trains.tranche_horaire.apply(timenew)\n"
   ]
  },
  {
   "cell_type": "markdown",
   "metadata": {},
   "source": [
    "## <div class=\"alert alert-info\"> Formatage colonnes années et colonnes str to date </div> "
   ]
  },
  {
   "cell_type": "code",
   "execution_count": 9,
   "metadata": {
    "scrolled": true
   },
   "outputs": [
    {
     "data": {
      "text/plain": [
       "0      2014-05-17\n",
       "1      2018-03-27\n",
       "2      2016-03-15\n",
       "3      2014-05-18\n",
       "4      2016-03-15\n",
       "          ...    \n",
       "7225   2016-03-17\n",
       "7226   2018-10-14\n",
       "7227   2016-03-22\n",
       "7228   2016-03-15\n",
       "7229   2015-03-28\n",
       "Name: date_comptage, Length: 7230, dtype: datetime64[ns]"
      ]
     },
     "execution_count": 9,
     "metadata": {},
     "output_type": "execute_result"
    }
   ],
   "source": [
    "### format année en format int (retrait format float)\n",
    "trains.annee = trains.annee.apply(lambda x: int(x))\n",
    "\n",
    "###date_comptage en format date\n",
    "trains.date_comptage.apply(lambda x: pd.Timestamp(x))"
   ]
  },
  {
   "cell_type": "markdown",
   "metadata": {},
   "source": [
    "## <div class=\"alert alert-info\"> Liste des années de pointage </div> "
   ]
  },
  {
   "cell_type": "code",
   "execution_count": 10,
   "metadata": {},
   "outputs": [
    {
     "data": {
      "text/plain": [
       "array([2014, 2018, 2016, 2017, 2015], dtype=int64)"
      ]
     },
     "execution_count": 10,
     "metadata": {},
     "output_type": "execute_result"
    }
   ],
   "source": [
    "trains.annee.unique()"
   ]
  },
  {
   "cell_type": "code",
   "execution_count": 11,
   "metadata": {
    "scrolled": true
   },
   "outputs": [
    {
     "data": {
      "text/html": [
       "<div>\n",
       "<style scoped>\n",
       "    .dataframe tbody tr th:only-of-type {\n",
       "        vertical-align: middle;\n",
       "    }\n",
       "\n",
       "    .dataframe tbody tr th {\n",
       "        vertical-align: top;\n",
       "    }\n",
       "\n",
       "    .dataframe thead th {\n",
       "        text-align: right;\n",
       "    }\n",
       "</style>\n",
       "<table border=\"1\" class=\"dataframe\">\n",
       "  <thead>\n",
       "    <tr style=\"text-align: right;\">\n",
       "      <th></th>\n",
       "      <th>nom_gare</th>\n",
       "      <th>code_gare</th>\n",
       "      <th>type_jour</th>\n",
       "      <th>annee</th>\n",
       "      <th>date_comptage</th>\n",
       "      <th>ligne</th>\n",
       "      <th>tranche_horaire</th>\n",
       "      <th>montants</th>\n",
       "    </tr>\n",
       "  </thead>\n",
       "  <tbody>\n",
       "    <tr>\n",
       "      <td>0</td>\n",
       "      <td>ACHERES GRAND CORMIER</td>\n",
       "      <td>87386052</td>\n",
       "      <td>Samedi</td>\n",
       "      <td>2014</td>\n",
       "      <td>2014-05-17</td>\n",
       "      <td>A</td>\n",
       "      <td>16H-20H</td>\n",
       "      <td>46</td>\n",
       "    </tr>\n",
       "    <tr>\n",
       "      <td>1</td>\n",
       "      <td>ACHERES GRAND CORMIER</td>\n",
       "      <td>87386052</td>\n",
       "      <td>JOB</td>\n",
       "      <td>2018</td>\n",
       "      <td>2018-03-27</td>\n",
       "      <td>A</td>\n",
       "      <td>06H-10H</td>\n",
       "      <td>113</td>\n",
       "    </tr>\n",
       "    <tr>\n",
       "      <td>2</td>\n",
       "      <td>SAINT-QUENTIN EN YVELINES</td>\n",
       "      <td>87393843</td>\n",
       "      <td>JOB</td>\n",
       "      <td>2016</td>\n",
       "      <td>2016-03-15</td>\n",
       "      <td>U</td>\n",
       "      <td>06H-10H</td>\n",
       "      <td>2493</td>\n",
       "    </tr>\n",
       "    <tr>\n",
       "      <td>3</td>\n",
       "      <td>MAISONS LAFFITTE</td>\n",
       "      <td>87386425</td>\n",
       "      <td>Dimanche</td>\n",
       "      <td>2014</td>\n",
       "      <td>2014-05-18</td>\n",
       "      <td>A</td>\n",
       "      <td>10H-16H</td>\n",
       "      <td>1884</td>\n",
       "    </tr>\n",
       "    <tr>\n",
       "      <td>4</td>\n",
       "      <td>LA DEFENSE GRANDE ARCHE</td>\n",
       "      <td>87758011</td>\n",
       "      <td>JOB</td>\n",
       "      <td>2016</td>\n",
       "      <td>2016-03-15</td>\n",
       "      <td>U</td>\n",
       "      <td>06H-10H</td>\n",
       "      <td>3831</td>\n",
       "    </tr>\n",
       "  </tbody>\n",
       "</table>\n",
       "</div>"
      ],
      "text/plain": [
       "                    nom_gare  code_gare type_jour  annee date_comptage ligne  \\\n",
       "0      ACHERES GRAND CORMIER   87386052    Samedi   2014    2014-05-17     A   \n",
       "1      ACHERES GRAND CORMIER   87386052       JOB   2018    2018-03-27     A   \n",
       "2  SAINT-QUENTIN EN YVELINES   87393843       JOB   2016    2016-03-15     U   \n",
       "3           MAISONS LAFFITTE   87386425  Dimanche   2014    2014-05-18     A   \n",
       "4    LA DEFENSE GRANDE ARCHE   87758011       JOB   2016    2016-03-15     U   \n",
       "\n",
       "  tranche_horaire  montants  \n",
       "0         16H-20H        46  \n",
       "1         06H-10H       113  \n",
       "2         06H-10H      2493  \n",
       "3         10H-16H      1884  \n",
       "4         06H-10H      3831  "
      ]
     },
     "execution_count": 11,
     "metadata": {},
     "output_type": "execute_result"
    }
   ],
   "source": [
    "trains.head()"
   ]
  },
  {
   "cell_type": "markdown",
   "metadata": {},
   "source": [
    "## <div class=\"alert alert-info\"> Nombre total de comptage annuel </div> "
   ]
  },
  {
   "cell_type": "code",
   "execution_count": 12,
   "metadata": {
    "scrolled": true
   },
   "outputs": [
    {
     "data": {
      "text/plain": [
       "<matplotlib.axes._subplots.AxesSubplot at 0x16a9ad0ecc8>"
      ]
     },
     "execution_count": 12,
     "metadata": {},
     "output_type": "execute_result"
    },
    {
     "data": {
      "image/png": "[encoded data removed]",
      "text/plain": [
       "<Figure size 432x288 with 1 Axes>"
      ]
     },
     "metadata": {
      "needs_background": "light"
     },
     "output_type": "display_data"
    }
   ],
   "source": [
    "###calcul du nombre de comptage total par an depuis 2014 jusuqu'en 2018###\n",
    "\n",
    "comptage_total = trains.groupby(['annee']).montants.sum()\n",
    "comptage_total.plot(kind='bar')"
   ]
  },
  {
   "cell_type": "markdown",
   "metadata": {},
   "source": [
    "## <div class=\"alert alert-info\"> Formatage colonnes années et colonnes str to date </div> "
   ]
  },
  {
   "cell_type": "code",
   "execution_count": 45,
   "metadata": {},
   "outputs": [
    {
     "data": {
      "text/plain": [
       "date_comptage  nom_gare                ligne\n",
       "2014-03-27     PARIS NORD              B        54137\n",
       "2015-11-03     PARIS GARE DE LYON      D        49392\n",
       "2018-10-11     PARIS NORD              H        46349\n",
       "2016-10-04     HAUSSMANN SAINT-LAZARE  E        45752\n",
       "2014-03-29     PARIS NORD              B        38283\n",
       "2015-11-03     PARIS NORD              D        34512\n",
       "2014-03-30     PARIS NORD              B        28956\n",
       "2016-10-04     MAGENTA                 E        28695\n",
       "2015-11-03     CHATELET LES HALLES     D        28586\n",
       "2015-03-31     PARIS EST               P        27896\n",
       "Name: montants, dtype: int64"
      ]
     },
     "execution_count": 45,
     "metadata": {},
     "output_type": "execute_result"
    }
   ],
   "source": [
    "###Jour de comptage le plus important sur les 4 années\n",
    "max_day = trains.groupby(['date_comptage','nom_gare','ligne'])['montants'].max()\n",
    "max_day.sort_values(ascending=False).head(10)"
   ]
  },
  {
   "cell_type": "code",
   "execution_count": null,
   "metadata": {},
   "outputs": [],
   "source": []
  },
  {
   "cell_type": "markdown",
   "metadata": {},
   "source": [
    "# <div class=\"alert alert-block alert-success\"> Etude des montants à la gare Paris Nord </div> "
   ]
  },
  {
   "cell_type": "code",
   "execution_count": 16,
   "metadata": {},
   "outputs": [],
   "source": [
    "###filtre de la DB pour avoir uniquement la gare du nord\n",
    "pn = trains[trains['nom_gare']=='PARIS NORD']"
   ]
  },
  {
   "cell_type": "code",
   "execution_count": 17,
   "metadata": {},
   "outputs": [],
   "source": [
    "###réinitialisation de index\n",
    "pn = pn. reset_index()"
   ]
  },
  {
   "cell_type": "code",
   "execution_count": 35,
   "metadata": {},
   "outputs": [
    {
     "data": {
      "text/html": [
       "<div>\n",
       "<style scoped>\n",
       "    .dataframe tbody tr th:only-of-type {\n",
       "        vertical-align: middle;\n",
       "    }\n",
       "\n",
       "    .dataframe tbody tr th {\n",
       "        vertical-align: top;\n",
       "    }\n",
       "\n",
       "    .dataframe thead th {\n",
       "        text-align: right;\n",
       "    }\n",
       "</style>\n",
       "<table border=\"1\" class=\"dataframe\">\n",
       "  <thead>\n",
       "    <tr style=\"text-align: right;\">\n",
       "      <th></th>\n",
       "      <th>index</th>\n",
       "      <th>nom_gare</th>\n",
       "      <th>code_gare</th>\n",
       "      <th>type_jour</th>\n",
       "      <th>annee</th>\n",
       "      <th>date_comptage</th>\n",
       "      <th>ligne</th>\n",
       "      <th>tranche_horaire</th>\n",
       "      <th>montants</th>\n",
       "    </tr>\n",
       "  </thead>\n",
       "  <tbody>\n",
       "    <tr>\n",
       "      <td>0</td>\n",
       "      <td>21</td>\n",
       "      <td>PARIS NORD</td>\n",
       "      <td>87271007</td>\n",
       "      <td>Samedi</td>\n",
       "      <td>2014</td>\n",
       "      <td>2014-03-29</td>\n",
       "      <td>B</td>\n",
       "      <td>06H-10H</td>\n",
       "      <td>16089</td>\n",
       "    </tr>\n",
       "    <tr>\n",
       "      <td>1</td>\n",
       "      <td>102</td>\n",
       "      <td>PARIS NORD</td>\n",
       "      <td>87271007</td>\n",
       "      <td>Dimanche</td>\n",
       "      <td>2015</td>\n",
       "      <td>2015-11-08</td>\n",
       "      <td>D</td>\n",
       "      <td>05H-06H</td>\n",
       "      <td>300</td>\n",
       "    </tr>\n",
       "    <tr>\n",
       "      <td>2</td>\n",
       "      <td>113</td>\n",
       "      <td>PARIS NORD</td>\n",
       "      <td>87271007</td>\n",
       "      <td>Samedi</td>\n",
       "      <td>2015</td>\n",
       "      <td>2015-11-07</td>\n",
       "      <td>D</td>\n",
       "      <td>05H-06H</td>\n",
       "      <td>624</td>\n",
       "    </tr>\n",
       "    <tr>\n",
       "      <td>3</td>\n",
       "      <td>209</td>\n",
       "      <td>PARIS NORD</td>\n",
       "      <td>87271007</td>\n",
       "      <td>Dimanche</td>\n",
       "      <td>2015</td>\n",
       "      <td>2015-11-08</td>\n",
       "      <td>D</td>\n",
       "      <td>16H-20H</td>\n",
       "      <td>16571</td>\n",
       "    </tr>\n",
       "    <tr>\n",
       "      <td>4</td>\n",
       "      <td>344</td>\n",
       "      <td>PARIS NORD</td>\n",
       "      <td>87271031</td>\n",
       "      <td>JOB</td>\n",
       "      <td>2018</td>\n",
       "      <td>2018-10-11</td>\n",
       "      <td>H</td>\n",
       "      <td>16H-20H</td>\n",
       "      <td>46349</td>\n",
       "    </tr>\n",
       "  </tbody>\n",
       "</table>\n",
       "</div>"
      ],
      "text/plain": [
       "   index    nom_gare  code_gare type_jour  annee date_comptage ligne  \\\n",
       "0     21  PARIS NORD   87271007    Samedi   2014    2014-03-29     B   \n",
       "1    102  PARIS NORD   87271007  Dimanche   2015    2015-11-08     D   \n",
       "2    113  PARIS NORD   87271007    Samedi   2015    2015-11-07     D   \n",
       "3    209  PARIS NORD   87271007  Dimanche   2015    2015-11-08     D   \n",
       "4    344  PARIS NORD   87271031       JOB   2018    2018-10-11     H   \n",
       "\n",
       "  tranche_horaire  montants  \n",
       "0         06H-10H     16089  \n",
       "1         05H-06H       300  \n",
       "2         05H-06H       624  \n",
       "3         16H-20H     16571  \n",
       "4         16H-20H     46349  "
      ]
     },
     "execution_count": 35,
     "metadata": {},
     "output_type": "execute_result"
    }
   ],
   "source": [
    "pn.head()"
   ]
  },
  {
   "cell_type": "markdown",
   "metadata": {},
   "source": [
    "## <div class=\"alert alert-info\"> Evolution du nombre moyen de montants au cours d'une journée de semaine sur les 4 années - Gare du Nord </div> "
   ]
  },
  {
   "cell_type": "code",
   "execution_count": 36,
   "metadata": {},
   "outputs": [],
   "source": [
    "# sélection JOB\n",
    "pn_job = pn[pn['type_jour']=='JOB']"
   ]
  },
  {
   "cell_type": "code",
   "execution_count": 37,
   "metadata": {},
   "outputs": [],
   "source": [
    "#Sélection par nom de ligne\n",
    "pn_job_lignes = pn_job.groupby(['ligne', 'tranche_horaire'], as_index=False)['montants'].mean()"
   ]
  },
  {
   "cell_type": "code",
   "execution_count": 38,
   "metadata": {
    "scrolled": false
   },
   "outputs": [
    {
     "data": {
      "text/html": [
       "<div>\n",
       "<style scoped>\n",
       "    .dataframe tbody tr th:only-of-type {\n",
       "        vertical-align: middle;\n",
       "    }\n",
       "\n",
       "    .dataframe tbody tr th {\n",
       "        vertical-align: top;\n",
       "    }\n",
       "\n",
       "    .dataframe thead th {\n",
       "        text-align: right;\n",
       "    }\n",
       "</style>\n",
       "<table border=\"1\" class=\"dataframe\">\n",
       "  <thead>\n",
       "    <tr style=\"text-align: right;\">\n",
       "      <th></th>\n",
       "      <th>ligne</th>\n",
       "      <th>tranche_horaire</th>\n",
       "      <th>montants</th>\n",
       "    </tr>\n",
       "  </thead>\n",
       "  <tbody>\n",
       "    <tr>\n",
       "      <td>0</td>\n",
       "      <td>B</td>\n",
       "      <td>05H-06H</td>\n",
       "      <td>1723</td>\n",
       "    </tr>\n",
       "    <tr>\n",
       "      <td>1</td>\n",
       "      <td>B</td>\n",
       "      <td>06H-10H</td>\n",
       "      <td>54137</td>\n",
       "    </tr>\n",
       "    <tr>\n",
       "      <td>2</td>\n",
       "      <td>B</td>\n",
       "      <td>10H-16H</td>\n",
       "      <td>35345</td>\n",
       "    </tr>\n",
       "    <tr>\n",
       "      <td>3</td>\n",
       "      <td>B</td>\n",
       "      <td>16H-20H</td>\n",
       "      <td>48989</td>\n",
       "    </tr>\n",
       "    <tr>\n",
       "      <td>4</td>\n",
       "      <td>B</td>\n",
       "      <td>20H-02H</td>\n",
       "      <td>14672</td>\n",
       "    </tr>\n",
       "  </tbody>\n",
       "</table>\n",
       "</div>"
      ],
      "text/plain": [
       "  ligne tranche_horaire  montants\n",
       "0     B         05H-06H      1723\n",
       "1     B         06H-10H     54137\n",
       "2     B         10H-16H     35345\n",
       "3     B         16H-20H     48989\n",
       "4     B         20H-02H     14672"
      ]
     },
     "execution_count": 38,
     "metadata": {},
     "output_type": "execute_result"
    }
   ],
   "source": [
    "pn_job_lignes.head()"
   ]
  },
  {
   "cell_type": "code",
   "execution_count": 52,
   "metadata": {},
   "outputs": [
    {
     "data": {
      "text/html": [
       "<div>\n",
       "<style scoped>\n",
       "    .dataframe tbody tr th:only-of-type {\n",
       "        vertical-align: middle;\n",
       "    }\n",
       "\n",
       "    .dataframe tbody tr th {\n",
       "        vertical-align: top;\n",
       "    }\n",
       "\n",
       "    .dataframe thead tr th {\n",
       "        text-align: left;\n",
       "    }\n",
       "\n",
       "    .dataframe thead tr:last-of-type th {\n",
       "        text-align: right;\n",
       "    }\n",
       "</style>\n",
       "<table border=\"1\" class=\"dataframe\">\n",
       "  <thead>\n",
       "    <tr>\n",
       "      <th></th>\n",
       "      <th colspan=\"5\" halign=\"left\">montants</th>\n",
       "    </tr>\n",
       "    <tr>\n",
       "      <th>tranche_horaire</th>\n",
       "      <th>05H-06H</th>\n",
       "      <th>06H-10H</th>\n",
       "      <th>10H-16H</th>\n",
       "      <th>16H-20H</th>\n",
       "      <th>20H-02H</th>\n",
       "    </tr>\n",
       "    <tr>\n",
       "      <th>ligne</th>\n",
       "      <th></th>\n",
       "      <th></th>\n",
       "      <th></th>\n",
       "      <th></th>\n",
       "      <th></th>\n",
       "    </tr>\n",
       "  </thead>\n",
       "  <tbody>\n",
       "    <tr>\n",
       "      <td>B</td>\n",
       "      <td>1723.0</td>\n",
       "      <td>54137.0</td>\n",
       "      <td>35345.0</td>\n",
       "      <td>48989.0</td>\n",
       "      <td>14672.0</td>\n",
       "    </tr>\n",
       "    <tr>\n",
       "      <td>D</td>\n",
       "      <td>824.0</td>\n",
       "      <td>28073.0</td>\n",
       "      <td>19974.0</td>\n",
       "      <td>34512.0</td>\n",
       "      <td>7875.0</td>\n",
       "    </tr>\n",
       "    <tr>\n",
       "      <td>H</td>\n",
       "      <td>451.0</td>\n",
       "      <td>10949.0</td>\n",
       "      <td>16567.0</td>\n",
       "      <td>46349.0</td>\n",
       "      <td>14286.0</td>\n",
       "    </tr>\n",
       "    <tr>\n",
       "      <td>K</td>\n",
       "      <td>NaN</td>\n",
       "      <td>574.0</td>\n",
       "      <td>341.0</td>\n",
       "      <td>5786.0</td>\n",
       "      <td>548.0</td>\n",
       "    </tr>\n",
       "  </tbody>\n",
       "</table>\n",
       "</div>"
      ],
      "text/plain": [
       "                montants                                    \n",
       "tranche_horaire  05H-06H  06H-10H  10H-16H  16H-20H  20H-02H\n",
       "ligne                                                       \n",
       "B                 1723.0  54137.0  35345.0  48989.0  14672.0\n",
       "D                  824.0  28073.0  19974.0  34512.0   7875.0\n",
       "H                  451.0  10949.0  16567.0  46349.0  14286.0\n",
       "K                    NaN    574.0    341.0   5786.0    548.0"
      ]
     },
     "execution_count": 52,
     "metadata": {},
     "output_type": "execute_result"
    }
   ],
   "source": [
    "### heatmap\n",
    "pn_job_lignes_heat = pn_job_lignes.set_index(['ligne', 'tranche_horaire'])\n",
    "pn_job_lignes_heat = pn_job_lignes_heat.unstack()\n",
    "pn_job_lignes_heat"
   ]
  },
  {
   "cell_type": "code",
   "execution_count": 22,
   "metadata": {},
   "outputs": [],
   "source": [
    "q = pn_job_lignes.pivot(index='tranche_horaire', columns='ligne', values='montants')"
   ]
  },
  {
   "cell_type": "code",
   "execution_count": 23,
   "metadata": {
    "scrolled": false
   },
   "outputs": [
    {
     "data": {
      "text/html": [
       "<div>\n",
       "<style scoped>\n",
       "    .dataframe tbody tr th:only-of-type {\n",
       "        vertical-align: middle;\n",
       "    }\n",
       "\n",
       "    .dataframe tbody tr th {\n",
       "        vertical-align: top;\n",
       "    }\n",
       "\n",
       "    .dataframe thead th {\n",
       "        text-align: right;\n",
       "    }\n",
       "</style>\n",
       "<table border=\"1\" class=\"dataframe\">\n",
       "  <thead>\n",
       "    <tr style=\"text-align: right;\">\n",
       "      <th>ligne</th>\n",
       "      <th>B</th>\n",
       "      <th>D</th>\n",
       "      <th>H</th>\n",
       "      <th>K</th>\n",
       "    </tr>\n",
       "    <tr>\n",
       "      <th>tranche_horaire</th>\n",
       "      <th></th>\n",
       "      <th></th>\n",
       "      <th></th>\n",
       "      <th></th>\n",
       "    </tr>\n",
       "  </thead>\n",
       "  <tbody>\n",
       "    <tr>\n",
       "      <td>05H-06H</td>\n",
       "      <td>1723.0</td>\n",
       "      <td>824.0</td>\n",
       "      <td>451.0</td>\n",
       "      <td>NaN</td>\n",
       "    </tr>\n",
       "    <tr>\n",
       "      <td>06H-10H</td>\n",
       "      <td>54137.0</td>\n",
       "      <td>28073.0</td>\n",
       "      <td>10949.0</td>\n",
       "      <td>574.0</td>\n",
       "    </tr>\n",
       "    <tr>\n",
       "      <td>10H-16H</td>\n",
       "      <td>35345.0</td>\n",
       "      <td>19974.0</td>\n",
       "      <td>16567.0</td>\n",
       "      <td>341.0</td>\n",
       "    </tr>\n",
       "    <tr>\n",
       "      <td>16H-20H</td>\n",
       "      <td>48989.0</td>\n",
       "      <td>34512.0</td>\n",
       "      <td>46349.0</td>\n",
       "      <td>5786.0</td>\n",
       "    </tr>\n",
       "    <tr>\n",
       "      <td>20H-02H</td>\n",
       "      <td>14672.0</td>\n",
       "      <td>7875.0</td>\n",
       "      <td>14286.0</td>\n",
       "      <td>548.0</td>\n",
       "    </tr>\n",
       "  </tbody>\n",
       "</table>\n",
       "</div>"
      ],
      "text/plain": [
       "ligne                  B        D        H       K\n",
       "tranche_horaire                                   \n",
       "05H-06H           1723.0    824.0    451.0     NaN\n",
       "06H-10H          54137.0  28073.0  10949.0   574.0\n",
       "10H-16H          35345.0  19974.0  16567.0   341.0\n",
       "16H-20H          48989.0  34512.0  46349.0  5786.0\n",
       "20H-02H          14672.0   7875.0  14286.0   548.0"
      ]
     },
     "execution_count": 23,
     "metadata": {},
     "output_type": "execute_result"
    }
   ],
   "source": [
    "q"
   ]
  },
  {
   "cell_type": "code",
   "execution_count": null,
   "metadata": {},
   "outputs": [],
   "source": []
  },
  {
   "cell_type": "code",
   "execution_count": 24,
   "metadata": {
    "scrolled": true
   },
   "outputs": [
    {
     "data": {
      "text/html": [
       "<div>\n",
       "<style scoped>\n",
       "    .dataframe tbody tr th:only-of-type {\n",
       "        vertical-align: middle;\n",
       "    }\n",
       "\n",
       "    .dataframe tbody tr th {\n",
       "        vertical-align: top;\n",
       "    }\n",
       "\n",
       "    .dataframe thead th {\n",
       "        text-align: right;\n",
       "    }\n",
       "</style>\n",
       "<table border=\"1\" class=\"dataframe\">\n",
       "  <thead>\n",
       "    <tr style=\"text-align: right;\">\n",
       "      <th>ligne</th>\n",
       "      <th>tranche_horaire</th>\n",
       "      <th>B</th>\n",
       "      <th>D</th>\n",
       "      <th>H</th>\n",
       "      <th>K</th>\n",
       "    </tr>\n",
       "  </thead>\n",
       "  <tbody>\n",
       "    <tr>\n",
       "      <td>0</td>\n",
       "      <td>05H-06H</td>\n",
       "      <td>1723.0</td>\n",
       "      <td>824.0</td>\n",
       "      <td>451.0</td>\n",
       "      <td>NaN</td>\n",
       "    </tr>\n",
       "    <tr>\n",
       "      <td>1</td>\n",
       "      <td>06H-10H</td>\n",
       "      <td>54137.0</td>\n",
       "      <td>28073.0</td>\n",
       "      <td>10949.0</td>\n",
       "      <td>574.0</td>\n",
       "    </tr>\n",
       "    <tr>\n",
       "      <td>2</td>\n",
       "      <td>10H-16H</td>\n",
       "      <td>35345.0</td>\n",
       "      <td>19974.0</td>\n",
       "      <td>16567.0</td>\n",
       "      <td>341.0</td>\n",
       "    </tr>\n",
       "    <tr>\n",
       "      <td>3</td>\n",
       "      <td>16H-20H</td>\n",
       "      <td>48989.0</td>\n",
       "      <td>34512.0</td>\n",
       "      <td>46349.0</td>\n",
       "      <td>5786.0</td>\n",
       "    </tr>\n",
       "    <tr>\n",
       "      <td>4</td>\n",
       "      <td>20H-02H</td>\n",
       "      <td>14672.0</td>\n",
       "      <td>7875.0</td>\n",
       "      <td>14286.0</td>\n",
       "      <td>548.0</td>\n",
       "    </tr>\n",
       "  </tbody>\n",
       "</table>\n",
       "</div>"
      ],
      "text/plain": [
       "ligne tranche_horaire        B        D        H       K\n",
       "0             05H-06H   1723.0    824.0    451.0     NaN\n",
       "1             06H-10H  54137.0  28073.0  10949.0   574.0\n",
       "2             10H-16H  35345.0  19974.0  16567.0   341.0\n",
       "3             16H-20H  48989.0  34512.0  46349.0  5786.0\n",
       "4             20H-02H  14672.0   7875.0  14286.0   548.0"
      ]
     },
     "execution_count": 24,
     "metadata": {},
     "output_type": "execute_result"
    }
   ],
   "source": [
    "q.reset_index(inplace=True)\n",
    "q"
   ]
  },
  {
   "cell_type": "code",
   "execution_count": null,
   "metadata": {},
   "outputs": [],
   "source": []
  },
  {
   "cell_type": "code",
   "execution_count": 25,
   "metadata": {},
   "outputs": [
    {
     "data": {
      "image/png": "[encoded data removed]",
      "text/plain": [
       "<Figure size 432x288 with 1 Axes>"
      ]
     },
     "metadata": {
      "needs_background": "light"
     },
     "output_type": "display_data"
    }
   ],
   "source": [
    "ax = plt.gca()\n",
    "\n",
    "q.plot(kind='line',x='tranche_horaire',y='B',ax=ax)\n",
    "q.plot(kind='line',x='tranche_horaire',y='D', color='red', ax=ax)\n",
    "q.plot(kind='line',x='tranche_horaire',y='H', color='green', ax=ax)\n",
    "q.plot(kind='line',x='tranche_horaire',y='K', color='orange', ax=ax)\n",
    "plt.show()\n"
   ]
  },
  {
   "cell_type": "markdown",
   "metadata": {},
   "source": [
    "## <div class=\"alert alert-info\"> Evolution du nombre moyen de montants au cours d'une journée de week-end sur les 4 années - Gare du Nord </div> "
   ]
  },
  {
   "cell_type": "code",
   "execution_count": 26,
   "metadata": {},
   "outputs": [],
   "source": [
    "# sélection week end\n",
    "pn_we = pn[(pn['type_jour']=='Samedi') | (pn['type_jour']=='Dimanche')]"
   ]
  },
  {
   "cell_type": "code",
   "execution_count": 27,
   "metadata": {},
   "outputs": [
    {
     "data": {
      "text/html": [
       "<div>\n",
       "<style scoped>\n",
       "    .dataframe tbody tr th:only-of-type {\n",
       "        vertical-align: middle;\n",
       "    }\n",
       "\n",
       "    .dataframe tbody tr th {\n",
       "        vertical-align: top;\n",
       "    }\n",
       "\n",
       "    .dataframe thead th {\n",
       "        text-align: right;\n",
       "    }\n",
       "</style>\n",
       "<table border=\"1\" class=\"dataframe\">\n",
       "  <thead>\n",
       "    <tr style=\"text-align: right;\">\n",
       "      <th></th>\n",
       "      <th>index</th>\n",
       "      <th>nom_gare</th>\n",
       "      <th>code_gare</th>\n",
       "      <th>type_jour</th>\n",
       "      <th>annee</th>\n",
       "      <th>date_comptage</th>\n",
       "      <th>ligne</th>\n",
       "      <th>tranche_horaire</th>\n",
       "      <th>montants</th>\n",
       "    </tr>\n",
       "  </thead>\n",
       "  <tbody>\n",
       "    <tr>\n",
       "      <td>0</td>\n",
       "      <td>21</td>\n",
       "      <td>PARIS NORD</td>\n",
       "      <td>87271007</td>\n",
       "      <td>Samedi</td>\n",
       "      <td>2014</td>\n",
       "      <td>2014-03-29</td>\n",
       "      <td>B</td>\n",
       "      <td>06H-10H</td>\n",
       "      <td>16089</td>\n",
       "    </tr>\n",
       "    <tr>\n",
       "      <td>1</td>\n",
       "      <td>102</td>\n",
       "      <td>PARIS NORD</td>\n",
       "      <td>87271007</td>\n",
       "      <td>Dimanche</td>\n",
       "      <td>2015</td>\n",
       "      <td>2015-11-08</td>\n",
       "      <td>D</td>\n",
       "      <td>05H-06H</td>\n",
       "      <td>300</td>\n",
       "    </tr>\n",
       "    <tr>\n",
       "      <td>2</td>\n",
       "      <td>113</td>\n",
       "      <td>PARIS NORD</td>\n",
       "      <td>87271007</td>\n",
       "      <td>Samedi</td>\n",
       "      <td>2015</td>\n",
       "      <td>2015-11-07</td>\n",
       "      <td>D</td>\n",
       "      <td>05H-06H</td>\n",
       "      <td>624</td>\n",
       "    </tr>\n",
       "    <tr>\n",
       "      <td>3</td>\n",
       "      <td>209</td>\n",
       "      <td>PARIS NORD</td>\n",
       "      <td>87271007</td>\n",
       "      <td>Dimanche</td>\n",
       "      <td>2015</td>\n",
       "      <td>2015-11-08</td>\n",
       "      <td>D</td>\n",
       "      <td>16H-20H</td>\n",
       "      <td>16571</td>\n",
       "    </tr>\n",
       "    <tr>\n",
       "      <td>5</td>\n",
       "      <td>466</td>\n",
       "      <td>PARIS NORD</td>\n",
       "      <td>87271007</td>\n",
       "      <td>Dimanche</td>\n",
       "      <td>2014</td>\n",
       "      <td>2014-03-30</td>\n",
       "      <td>B</td>\n",
       "      <td>20H-02H</td>\n",
       "      <td>15375</td>\n",
       "    </tr>\n",
       "  </tbody>\n",
       "</table>\n",
       "</div>"
      ],
      "text/plain": [
       "   index    nom_gare  code_gare type_jour  annee date_comptage ligne  \\\n",
       "0     21  PARIS NORD   87271007    Samedi   2014    2014-03-29     B   \n",
       "1    102  PARIS NORD   87271007  Dimanche   2015    2015-11-08     D   \n",
       "2    113  PARIS NORD   87271007    Samedi   2015    2015-11-07     D   \n",
       "3    209  PARIS NORD   87271007  Dimanche   2015    2015-11-08     D   \n",
       "5    466  PARIS NORD   87271007  Dimanche   2014    2014-03-30     B   \n",
       "\n",
       "  tranche_horaire  montants  \n",
       "0         06H-10H     16089  \n",
       "1         05H-06H       300  \n",
       "2         05H-06H       624  \n",
       "3         16H-20H     16571  \n",
       "5         20H-02H     15375  "
      ]
     },
     "execution_count": 27,
     "metadata": {},
     "output_type": "execute_result"
    }
   ],
   "source": [
    "pn_we.head()"
   ]
  },
  {
   "cell_type": "code",
   "execution_count": 28,
   "metadata": {},
   "outputs": [],
   "source": [
    "#Sélection par nom de ligne\n",
    "pn_we_lignes = pn_we.groupby(['ligne', 'tranche_horaire'], as_index=False)['montants'].mean()"
   ]
  },
  {
   "cell_type": "code",
   "execution_count": 29,
   "metadata": {},
   "outputs": [
    {
     "data": {
      "text/html": [
       "<div>\n",
       "<style scoped>\n",
       "    .dataframe tbody tr th:only-of-type {\n",
       "        vertical-align: middle;\n",
       "    }\n",
       "\n",
       "    .dataframe tbody tr th {\n",
       "        vertical-align: top;\n",
       "    }\n",
       "\n",
       "    .dataframe thead th {\n",
       "        text-align: right;\n",
       "    }\n",
       "</style>\n",
       "<table border=\"1\" class=\"dataframe\">\n",
       "  <thead>\n",
       "    <tr style=\"text-align: right;\">\n",
       "      <th></th>\n",
       "      <th>ligne</th>\n",
       "      <th>tranche_horaire</th>\n",
       "      <th>montants</th>\n",
       "    </tr>\n",
       "  </thead>\n",
       "  <tbody>\n",
       "    <tr>\n",
       "      <td>0</td>\n",
       "      <td>B</td>\n",
       "      <td>05H-06H</td>\n",
       "      <td>1131.5</td>\n",
       "    </tr>\n",
       "    <tr>\n",
       "      <td>1</td>\n",
       "      <td>B</td>\n",
       "      <td>06H-10H</td>\n",
       "      <td>13271.5</td>\n",
       "    </tr>\n",
       "    <tr>\n",
       "      <td>2</td>\n",
       "      <td>B</td>\n",
       "      <td>10H-16H</td>\n",
       "      <td>33619.5</td>\n",
       "    </tr>\n",
       "    <tr>\n",
       "      <td>3</td>\n",
       "      <td>B</td>\n",
       "      <td>16H-20H</td>\n",
       "      <td>27963.0</td>\n",
       "    </tr>\n",
       "    <tr>\n",
       "      <td>4</td>\n",
       "      <td>B</td>\n",
       "      <td>20H-02H</td>\n",
       "      <td>17058.5</td>\n",
       "    </tr>\n",
       "  </tbody>\n",
       "</table>\n",
       "</div>"
      ],
      "text/plain": [
       "  ligne tranche_horaire  montants\n",
       "0     B         05H-06H    1131.5\n",
       "1     B         06H-10H   13271.5\n",
       "2     B         10H-16H   33619.5\n",
       "3     B         16H-20H   27963.0\n",
       "4     B         20H-02H   17058.5"
      ]
     },
     "execution_count": 29,
     "metadata": {},
     "output_type": "execute_result"
    }
   ],
   "source": [
    "pn_we_lignes.head()"
   ]
  },
  {
   "cell_type": "code",
   "execution_count": 30,
   "metadata": {},
   "outputs": [],
   "source": [
    "qwe = pn_we_lignes.pivot(index='tranche_horaire', columns='ligne', values='montants')"
   ]
  },
  {
   "cell_type": "code",
   "execution_count": 31,
   "metadata": {},
   "outputs": [
    {
     "data": {
      "text/html": [
       "<div>\n",
       "<style scoped>\n",
       "    .dataframe tbody tr th:only-of-type {\n",
       "        vertical-align: middle;\n",
       "    }\n",
       "\n",
       "    .dataframe tbody tr th {\n",
       "        vertical-align: top;\n",
       "    }\n",
       "\n",
       "    .dataframe thead th {\n",
       "        text-align: right;\n",
       "    }\n",
       "</style>\n",
       "<table border=\"1\" class=\"dataframe\">\n",
       "  <thead>\n",
       "    <tr style=\"text-align: right;\">\n",
       "      <th>ligne</th>\n",
       "      <th>B</th>\n",
       "      <th>D</th>\n",
       "      <th>H</th>\n",
       "      <th>K</th>\n",
       "    </tr>\n",
       "    <tr>\n",
       "      <th>tranche_horaire</th>\n",
       "      <th></th>\n",
       "      <th></th>\n",
       "      <th></th>\n",
       "      <th></th>\n",
       "    </tr>\n",
       "  </thead>\n",
       "  <tbody>\n",
       "    <tr>\n",
       "      <td>05H-06H</td>\n",
       "      <td>1131.5</td>\n",
       "      <td>462.0</td>\n",
       "      <td>301.5</td>\n",
       "      <td>NaN</td>\n",
       "    </tr>\n",
       "    <tr>\n",
       "      <td>06H-10H</td>\n",
       "      <td>13271.5</td>\n",
       "      <td>5469.5</td>\n",
       "      <td>3971.0</td>\n",
       "      <td>79.5</td>\n",
       "    </tr>\n",
       "    <tr>\n",
       "      <td>10H-16H</td>\n",
       "      <td>33619.5</td>\n",
       "      <td>20866.0</td>\n",
       "      <td>14800.0</td>\n",
       "      <td>221.0</td>\n",
       "    </tr>\n",
       "    <tr>\n",
       "      <td>16H-20H</td>\n",
       "      <td>27963.0</td>\n",
       "      <td>19338.5</td>\n",
       "      <td>16848.0</td>\n",
       "      <td>456.5</td>\n",
       "    </tr>\n",
       "    <tr>\n",
       "      <td>20H-02H</td>\n",
       "      <td>17058.5</td>\n",
       "      <td>8822.5</td>\n",
       "      <td>10483.5</td>\n",
       "      <td>145.5</td>\n",
       "    </tr>\n",
       "  </tbody>\n",
       "</table>\n",
       "</div>"
      ],
      "text/plain": [
       "ligne                  B        D        H      K\n",
       "tranche_horaire                                  \n",
       "05H-06H           1131.5    462.0    301.5    NaN\n",
       "06H-10H          13271.5   5469.5   3971.0   79.5\n",
       "10H-16H          33619.5  20866.0  14800.0  221.0\n",
       "16H-20H          27963.0  19338.5  16848.0  456.5\n",
       "20H-02H          17058.5   8822.5  10483.5  145.5"
      ]
     },
     "execution_count": 31,
     "metadata": {},
     "output_type": "execute_result"
    }
   ],
   "source": [
    "qwe"
   ]
  },
  {
   "cell_type": "code",
   "execution_count": 32,
   "metadata": {},
   "outputs": [],
   "source": [
    "qwe.reset_index(inplace=True)"
   ]
  },
  {
   "cell_type": "code",
   "execution_count": 33,
   "metadata": {},
   "outputs": [
    {
     "data": {
      "text/html": [
       "<div>\n",
       "<style scoped>\n",
       "    .dataframe tbody tr th:only-of-type {\n",
       "        vertical-align: middle;\n",
       "    }\n",
       "\n",
       "    .dataframe tbody tr th {\n",
       "        vertical-align: top;\n",
       "    }\n",
       "\n",
       "    .dataframe thead th {\n",
       "        text-align: right;\n",
       "    }\n",
       "</style>\n",
       "<table border=\"1\" class=\"dataframe\">\n",
       "  <thead>\n",
       "    <tr style=\"text-align: right;\">\n",
       "      <th>ligne</th>\n",
       "      <th>tranche_horaire</th>\n",
       "      <th>B</th>\n",
       "      <th>D</th>\n",
       "      <th>H</th>\n",
       "      <th>K</th>\n",
       "    </tr>\n",
       "  </thead>\n",
       "  <tbody>\n",
       "    <tr>\n",
       "      <td>0</td>\n",
       "      <td>05H-06H</td>\n",
       "      <td>1131.5</td>\n",
       "      <td>462.0</td>\n",
       "      <td>301.5</td>\n",
       "      <td>NaN</td>\n",
       "    </tr>\n",
       "    <tr>\n",
       "      <td>1</td>\n",
       "      <td>06H-10H</td>\n",
       "      <td>13271.5</td>\n",
       "      <td>5469.5</td>\n",
       "      <td>3971.0</td>\n",
       "      <td>79.5</td>\n",
       "    </tr>\n",
       "    <tr>\n",
       "      <td>2</td>\n",
       "      <td>10H-16H</td>\n",
       "      <td>33619.5</td>\n",
       "      <td>20866.0</td>\n",
       "      <td>14800.0</td>\n",
       "      <td>221.0</td>\n",
       "    </tr>\n",
       "    <tr>\n",
       "      <td>3</td>\n",
       "      <td>16H-20H</td>\n",
       "      <td>27963.0</td>\n",
       "      <td>19338.5</td>\n",
       "      <td>16848.0</td>\n",
       "      <td>456.5</td>\n",
       "    </tr>\n",
       "    <tr>\n",
       "      <td>4</td>\n",
       "      <td>20H-02H</td>\n",
       "      <td>17058.5</td>\n",
       "      <td>8822.5</td>\n",
       "      <td>10483.5</td>\n",
       "      <td>145.5</td>\n",
       "    </tr>\n",
       "  </tbody>\n",
       "</table>\n",
       "</div>"
      ],
      "text/plain": [
       "ligne tranche_horaire        B        D        H      K\n",
       "0             05H-06H   1131.5    462.0    301.5    NaN\n",
       "1             06H-10H  13271.5   5469.5   3971.0   79.5\n",
       "2             10H-16H  33619.5  20866.0  14800.0  221.0\n",
       "3             16H-20H  27963.0  19338.5  16848.0  456.5\n",
       "4             20H-02H  17058.5   8822.5  10483.5  145.5"
      ]
     },
     "execution_count": 33,
     "metadata": {},
     "output_type": "execute_result"
    }
   ],
   "source": [
    "qwe"
   ]
  },
  {
   "cell_type": "code",
   "execution_count": 34,
   "metadata": {},
   "outputs": [
    {
     "data": {
      "image/png": "[encoded data removed]",
      "text/plain": [
       "<Figure size 432x288 with 1 Axes>"
      ]
     },
     "metadata": {
      "needs_background": "light"
     },
     "output_type": "display_data"
    }
   ],
   "source": [
    "ax2 = plt.gca()\n",
    "\n",
    "qwe.plot(kind='line',x='tranche_horaire',y='B',ax=ax2)\n",
    "qwe.plot(kind='line',x='tranche_horaire',y='D', color='red', ax=ax2)\n",
    "qwe.plot(kind='line',x='tranche_horaire',y='H', color='green', ax=ax2)\n",
    "qwe.plot(kind='line',x='tranche_horaire',y='K', color='orange', ax=ax2)\n",
    "plt.show()"
   ]
  },
  {
   "cell_type": "code",
   "execution_count": null,
   "metadata": {},
   "outputs": [],
   "source": []
  },
  {
   "cell_type": "code",
   "execution_count": null,
   "metadata": {},
   "outputs": [],
   "source": []
  },
  {
   "cell_type": "code",
   "execution_count": null,
   "metadata": {},
   "outputs": [],
   "source": []
  },
  {
   "cell_type": "code",
   "execution_count": null,
   "metadata": {},
   "outputs": [],
   "source": []
  }
 ],
 "metadata": {
  "kernelspec": {
   "display_name": "Python 3",
   "language": "python",
   "name": "python3"
  },
  "language_info": {
   "codemirror_mode": {
    "name": "ipython",
    "version": 3
   },
   "file_extension": ".py",
   "mimetype": "text/x-python",
   "name": "python",
   "nbconvert_exporter": "python",
   "pygments_lexer": "ipython3",
   "version": "3.7.4"
  }
 },
 "nbformat": 4,
 "nbformat_minor": 2
}
